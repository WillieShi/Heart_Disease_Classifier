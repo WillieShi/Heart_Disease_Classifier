{
 "cells": [
  {
   "cell_type": "markdown",
   "id": "224b8e06",
   "metadata": {},
   "source": [
    "# Predicting Heart Disease\n",
    "\n",
    "**By: Winnie Chang, Yuhan Gao, William Shi, and John Wang**"
   ]
  },
  {
   "cell_type": "markdown",
   "id": "23a7de64",
   "metadata": {},
   "source": [
    "## Introduction:\n",
    "\n",
    "Heart disease is a serious illness that requires early intervention to prevent. Being able to predict whether a patient will suffer from heart disease could be the key to saving their life. Luckily, certain biological features can be early indications of later heart disease. These biological features can be used to train classification models to predict whether a new patient is likely to suffer from heart disease later on in life.\n",
    "\n",
    "\n",
    "### The Dataset\n",
    "The [dataset](https://www.kaggle.com/sumaiyatasmeem/heart-disease-classification-dataset) we use includes a set of 13 biological features linked to heart disease. The features are (paraphrased directly from the dataset description):\n",
    "1. **age** : in whole years\n",
    "2. **sex** : male or female\n",
    "3. Chest-pain Type [**cp**] : 0 = typical angina, 1 = atypical angina, 2 = non-anginal pain, 3 = asymptotic\n",
    "4. Resting Blood Pressure [**trestbps**]: the resting blood pressure value of an individual in mmHg (anything above 130-140 is typically cause for concern)\n",
    "5. Serum Cholestrol [**chol**] : the serum cholesterol in mg/dl\n",
    "6. Fasting Blood Sugar [**fbs**] : 1 if fasting blood sugar > 120mg/dl (a signal for diabetes), 0 if fbs <= 120mg/dl\n",
    "7. Resting ECG [**restecg**] : 0 = normal, 1 = having ST-T wave abnormality, 2 = left ventricular hyperthrophy\n",
    "8. Max heart rate achieved [**thalach**] : the max heart rate achieved by an individual\n",
    "9. Exercise induced angina [**exang**] : 1 = yes, 0 = no\n",
    "10. ST depression induced by exercise relative to rest [**oldpeak**]: a value which is an integer or float.\n",
    "11. Slope of the peak exercise ST segment [**slope**] : 0 = upsloping (better heart rate with excercise (uncommon)), 1 = flat (minimal change (typical healthy heart)), 2 = downsloping (signs of unhealthy heart)\n",
    "12. Number of major vessels (0–3) colored by flourosopy [**ca**] : a value as integer or float\n",
    "13. Displays the thalassemia [**thal**] : 1,3 = normal, 6 = fixed defect, 7 = reversible defect (no proper blood movement when excercising)\n",
    "\n",
    "The dataset includes a **target** column that indicated whether the patient in the record is suffering from heart disease: 1 = yes and 0 = no.\n"
   ]
  },
  {
   "cell_type": "code",
   "execution_count": 1,
   "id": "005123f5",
   "metadata": {},
   "outputs": [],
   "source": [
    "import warnings\n",
    "warnings.filterwarnings('ignore')\n",
    "\n",
    "import pandas as pd\n",
    "import numpy as np\n",
    "import sklearn as sk\n",
    "import matplotlib.pyplot as plt\n",
    "\n",
    "# Enable inline mode for matplotlib so that Jupyter displays graphs\n",
    "%matplotlib inline"
   ]
  },
  {
   "cell_type": "markdown",
   "id": "daaf7f79",
   "metadata": {},
   "source": [
    "First we read in the dataset. We drop the **id** column because it does not help with data analysis and we do not want to train on ids."
   ]
  },
  {
   "cell_type": "code",
   "execution_count": 2,
   "id": "b28e0cdd",
   "metadata": {},
   "outputs": [
    {
     "data": {
      "text/html": [
       "<div>\n",
       "<style scoped>\n",
       "    .dataframe tbody tr th:only-of-type {\n",
       "        vertical-align: middle;\n",
       "    }\n",
       "\n",
       "    .dataframe tbody tr th {\n",
       "        vertical-align: top;\n",
       "    }\n",
       "\n",
       "    .dataframe thead th {\n",
       "        text-align: right;\n",
       "    }\n",
       "</style>\n",
       "<table border=\"1\" class=\"dataframe\">\n",
       "  <thead>\n",
       "    <tr style=\"text-align: right;\">\n",
       "      <th></th>\n",
       "      <th>age</th>\n",
       "      <th>sex</th>\n",
       "      <th>cp</th>\n",
       "      <th>trestbps</th>\n",
       "      <th>chol</th>\n",
       "      <th>fbs</th>\n",
       "      <th>restecg</th>\n",
       "      <th>thalach</th>\n",
       "      <th>exang</th>\n",
       "      <th>oldpeak</th>\n",
       "      <th>slope</th>\n",
       "      <th>ca</th>\n",
       "      <th>thal</th>\n",
       "      <th>target</th>\n",
       "    </tr>\n",
       "  </thead>\n",
       "  <tbody>\n",
       "    <tr>\n",
       "      <th>0</th>\n",
       "      <td>63</td>\n",
       "      <td>male</td>\n",
       "      <td>3</td>\n",
       "      <td>145.0</td>\n",
       "      <td>233.0</td>\n",
       "      <td>1</td>\n",
       "      <td>0</td>\n",
       "      <td>150.0</td>\n",
       "      <td>0</td>\n",
       "      <td>2.3</td>\n",
       "      <td>0</td>\n",
       "      <td>0</td>\n",
       "      <td>1</td>\n",
       "      <td>yes</td>\n",
       "    </tr>\n",
       "    <tr>\n",
       "      <th>1</th>\n",
       "      <td>37</td>\n",
       "      <td>male</td>\n",
       "      <td>2</td>\n",
       "      <td>130.0</td>\n",
       "      <td>250.0</td>\n",
       "      <td>0</td>\n",
       "      <td>1</td>\n",
       "      <td>187.0</td>\n",
       "      <td>0</td>\n",
       "      <td>3.5</td>\n",
       "      <td>0</td>\n",
       "      <td>0</td>\n",
       "      <td>2</td>\n",
       "      <td>yes</td>\n",
       "    </tr>\n",
       "    <tr>\n",
       "      <th>2</th>\n",
       "      <td>41</td>\n",
       "      <td>female</td>\n",
       "      <td>1</td>\n",
       "      <td>130.0</td>\n",
       "      <td>204.0</td>\n",
       "      <td>0</td>\n",
       "      <td>0</td>\n",
       "      <td>172.0</td>\n",
       "      <td>0</td>\n",
       "      <td>1.4</td>\n",
       "      <td>2</td>\n",
       "      <td>0</td>\n",
       "      <td>2</td>\n",
       "      <td>yes</td>\n",
       "    </tr>\n",
       "    <tr>\n",
       "      <th>3</th>\n",
       "      <td>56</td>\n",
       "      <td>male</td>\n",
       "      <td>1</td>\n",
       "      <td>120.0</td>\n",
       "      <td>236.0</td>\n",
       "      <td>0</td>\n",
       "      <td>1</td>\n",
       "      <td>178.0</td>\n",
       "      <td>0</td>\n",
       "      <td>0.8</td>\n",
       "      <td>2</td>\n",
       "      <td>0</td>\n",
       "      <td>2</td>\n",
       "      <td>yes</td>\n",
       "    </tr>\n",
       "    <tr>\n",
       "      <th>4</th>\n",
       "      <td>57</td>\n",
       "      <td>female</td>\n",
       "      <td>0</td>\n",
       "      <td>NaN</td>\n",
       "      <td>354.0</td>\n",
       "      <td>0</td>\n",
       "      <td>1</td>\n",
       "      <td>163.0</td>\n",
       "      <td>1</td>\n",
       "      <td>0.6</td>\n",
       "      <td>2</td>\n",
       "      <td>0</td>\n",
       "      <td>2</td>\n",
       "      <td>yes</td>\n",
       "    </tr>\n",
       "  </tbody>\n",
       "</table>\n",
       "</div>"
      ],
      "text/plain": [
       "   age     sex  cp  trestbps   chol  fbs  restecg  thalach  exang  oldpeak  \\\n",
       "0   63    male   3     145.0  233.0    1        0    150.0      0      2.3   \n",
       "1   37    male   2     130.0  250.0    0        1    187.0      0      3.5   \n",
       "2   41  female   1     130.0  204.0    0        0    172.0      0      1.4   \n",
       "3   56    male   1     120.0  236.0    0        1    178.0      0      0.8   \n",
       "4   57  female   0       NaN  354.0    0        1    163.0      1      0.6   \n",
       "\n",
       "   slope  ca  thal target  \n",
       "0      0   0     1    yes  \n",
       "1      0   0     2    yes  \n",
       "2      2   0     2    yes  \n",
       "3      2   0     2    yes  \n",
       "4      2   0     2    yes  "
      ]
     },
     "execution_count": 2,
     "metadata": {},
     "output_type": "execute_result"
    }
   ],
   "source": [
    "# Read CSV file into DataFrame df\n",
    "heart_data = pd.read_csv('heart disease classification dataset.csv')\n",
    "heart_data.drop(columns='id', axis=1, inplace=True)\n",
    "\n",
    "# Show dataframe\n",
    "heart_data.head()"
   ]
  },
  {
   "cell_type": "markdown",
   "id": "b07403f7",
   "metadata": {},
   "source": [
    "Before performing data cleaning, we separate our data into data and label."
   ]
  },
  {
   "cell_type": "code",
   "execution_count": 3,
   "id": "567fcddc",
   "metadata": {},
   "outputs": [
    {
     "data": {
      "text/html": [
       "<div>\n",
       "<style scoped>\n",
       "    .dataframe tbody tr th:only-of-type {\n",
       "        vertical-align: middle;\n",
       "    }\n",
       "\n",
       "    .dataframe tbody tr th {\n",
       "        vertical-align: top;\n",
       "    }\n",
       "\n",
       "    .dataframe thead th {\n",
       "        text-align: right;\n",
       "    }\n",
       "</style>\n",
       "<table border=\"1\" class=\"dataframe\">\n",
       "  <thead>\n",
       "    <tr style=\"text-align: right;\">\n",
       "      <th></th>\n",
       "      <th>age</th>\n",
       "      <th>sex</th>\n",
       "      <th>cp</th>\n",
       "      <th>trestbps</th>\n",
       "      <th>chol</th>\n",
       "      <th>fbs</th>\n",
       "      <th>restecg</th>\n",
       "      <th>thalach</th>\n",
       "      <th>exang</th>\n",
       "      <th>oldpeak</th>\n",
       "      <th>slope</th>\n",
       "      <th>ca</th>\n",
       "      <th>thal</th>\n",
       "    </tr>\n",
       "  </thead>\n",
       "  <tbody>\n",
       "    <tr>\n",
       "      <th>0</th>\n",
       "      <td>63</td>\n",
       "      <td>male</td>\n",
       "      <td>3</td>\n",
       "      <td>145.0</td>\n",
       "      <td>233.0</td>\n",
       "      <td>1</td>\n",
       "      <td>0</td>\n",
       "      <td>150.0</td>\n",
       "      <td>0</td>\n",
       "      <td>2.3</td>\n",
       "      <td>0</td>\n",
       "      <td>0</td>\n",
       "      <td>1</td>\n",
       "    </tr>\n",
       "    <tr>\n",
       "      <th>1</th>\n",
       "      <td>37</td>\n",
       "      <td>male</td>\n",
       "      <td>2</td>\n",
       "      <td>130.0</td>\n",
       "      <td>250.0</td>\n",
       "      <td>0</td>\n",
       "      <td>1</td>\n",
       "      <td>187.0</td>\n",
       "      <td>0</td>\n",
       "      <td>3.5</td>\n",
       "      <td>0</td>\n",
       "      <td>0</td>\n",
       "      <td>2</td>\n",
       "    </tr>\n",
       "    <tr>\n",
       "      <th>2</th>\n",
       "      <td>41</td>\n",
       "      <td>female</td>\n",
       "      <td>1</td>\n",
       "      <td>130.0</td>\n",
       "      <td>204.0</td>\n",
       "      <td>0</td>\n",
       "      <td>0</td>\n",
       "      <td>172.0</td>\n",
       "      <td>0</td>\n",
       "      <td>1.4</td>\n",
       "      <td>2</td>\n",
       "      <td>0</td>\n",
       "      <td>2</td>\n",
       "    </tr>\n",
       "    <tr>\n",
       "      <th>3</th>\n",
       "      <td>56</td>\n",
       "      <td>male</td>\n",
       "      <td>1</td>\n",
       "      <td>120.0</td>\n",
       "      <td>236.0</td>\n",
       "      <td>0</td>\n",
       "      <td>1</td>\n",
       "      <td>178.0</td>\n",
       "      <td>0</td>\n",
       "      <td>0.8</td>\n",
       "      <td>2</td>\n",
       "      <td>0</td>\n",
       "      <td>2</td>\n",
       "    </tr>\n",
       "    <tr>\n",
       "      <th>4</th>\n",
       "      <td>57</td>\n",
       "      <td>female</td>\n",
       "      <td>0</td>\n",
       "      <td>NaN</td>\n",
       "      <td>354.0</td>\n",
       "      <td>0</td>\n",
       "      <td>1</td>\n",
       "      <td>163.0</td>\n",
       "      <td>1</td>\n",
       "      <td>0.6</td>\n",
       "      <td>2</td>\n",
       "      <td>0</td>\n",
       "      <td>2</td>\n",
       "    </tr>\n",
       "  </tbody>\n",
       "</table>\n",
       "</div>"
      ],
      "text/plain": [
       "   age     sex  cp  trestbps   chol  fbs  restecg  thalach  exang  oldpeak  \\\n",
       "0   63    male   3     145.0  233.0    1        0    150.0      0      2.3   \n",
       "1   37    male   2     130.0  250.0    0        1    187.0      0      3.5   \n",
       "2   41  female   1     130.0  204.0    0        0    172.0      0      1.4   \n",
       "3   56    male   1     120.0  236.0    0        1    178.0      0      0.8   \n",
       "4   57  female   0       NaN  354.0    0        1    163.0      1      0.6   \n",
       "\n",
       "   slope  ca  thal  \n",
       "0      0   0     1  \n",
       "1      0   0     2  \n",
       "2      2   0     2  \n",
       "3      2   0     2  \n",
       "4      2   0     2  "
      ]
     },
     "execution_count": 3,
     "metadata": {},
     "output_type": "execute_result"
    }
   ],
   "source": [
    "data_Y = heart_data['target']\n",
    "data_X = heart_data.drop(['target'],axis=1)\n",
    "\n",
    "data_X.head()"
   ]
  },
  {
   "cell_type": "markdown",
   "id": "c3ee2ef8",
   "metadata": {},
   "source": [
    "### Data Cleaning and Feature Engineering\n",
    "\n",
    "We fill any null values with an appropriate value and convert categorical values into continuous values."
   ]
  },
  {
   "cell_type": "code",
   "execution_count": 4,
   "id": "a77448b6",
   "metadata": {},
   "outputs": [
    {
     "data": {
      "text/plain": [
       "age         0\n",
       "sex         0\n",
       "cp          0\n",
       "trestbps    4\n",
       "chol        1\n",
       "fbs         0\n",
       "restecg     0\n",
       "thalach     5\n",
       "exang       0\n",
       "oldpeak     0\n",
       "slope       0\n",
       "ca          0\n",
       "thal        0\n",
       "dtype: int64"
      ]
     },
     "execution_count": 4,
     "metadata": {},
     "output_type": "execute_result"
    }
   ],
   "source": [
    "# check for any null values in cols\n",
    "data_X.isna().sum()"
   ]
  },
  {
   "cell_type": "markdown",
   "id": "b4107ee7",
   "metadata": {},
   "source": [
    "Doing a quick survey of the dataset shows that **trestbps**, **chol**, and **thalach** in some records are null. Since these three features are continuous features, we decided to replace the null values with the overall mean of each feature.\n",
    "\n",
    "For **sex**, we replaced that column with one-hot encodings: one column for male and one column for female, where 1 = True and 0 = False."
   ]
  },
  {
   "cell_type": "code",
   "execution_count": 5,
   "id": "db70e57c",
   "metadata": {},
   "outputs": [
    {
     "data": {
      "text/html": [
       "<div>\n",
       "<style scoped>\n",
       "    .dataframe tbody tr th:only-of-type {\n",
       "        vertical-align: middle;\n",
       "    }\n",
       "\n",
       "    .dataframe tbody tr th {\n",
       "        vertical-align: top;\n",
       "    }\n",
       "\n",
       "    .dataframe thead th {\n",
       "        text-align: right;\n",
       "    }\n",
       "</style>\n",
       "<table border=\"1\" class=\"dataframe\">\n",
       "  <thead>\n",
       "    <tr style=\"text-align: right;\">\n",
       "      <th></th>\n",
       "      <th>age</th>\n",
       "      <th>cp</th>\n",
       "      <th>trestbps</th>\n",
       "      <th>chol</th>\n",
       "      <th>fbs</th>\n",
       "      <th>restecg</th>\n",
       "      <th>thalach</th>\n",
       "      <th>exang</th>\n",
       "      <th>oldpeak</th>\n",
       "      <th>slope</th>\n",
       "      <th>ca</th>\n",
       "      <th>thal</th>\n",
       "      <th>sex_female</th>\n",
       "      <th>sex_male</th>\n",
       "    </tr>\n",
       "  </thead>\n",
       "  <tbody>\n",
       "    <tr>\n",
       "      <th>0</th>\n",
       "      <td>63</td>\n",
       "      <td>3</td>\n",
       "      <td>145.000000</td>\n",
       "      <td>233.0</td>\n",
       "      <td>1</td>\n",
       "      <td>0</td>\n",
       "      <td>150.0</td>\n",
       "      <td>0</td>\n",
       "      <td>2.3</td>\n",
       "      <td>0</td>\n",
       "      <td>0</td>\n",
       "      <td>1</td>\n",
       "      <td>0</td>\n",
       "      <td>1</td>\n",
       "    </tr>\n",
       "    <tr>\n",
       "      <th>1</th>\n",
       "      <td>37</td>\n",
       "      <td>2</td>\n",
       "      <td>130.000000</td>\n",
       "      <td>250.0</td>\n",
       "      <td>0</td>\n",
       "      <td>1</td>\n",
       "      <td>187.0</td>\n",
       "      <td>0</td>\n",
       "      <td>3.5</td>\n",
       "      <td>0</td>\n",
       "      <td>0</td>\n",
       "      <td>2</td>\n",
       "      <td>0</td>\n",
       "      <td>1</td>\n",
       "    </tr>\n",
       "    <tr>\n",
       "      <th>2</th>\n",
       "      <td>41</td>\n",
       "      <td>1</td>\n",
       "      <td>130.000000</td>\n",
       "      <td>204.0</td>\n",
       "      <td>0</td>\n",
       "      <td>0</td>\n",
       "      <td>172.0</td>\n",
       "      <td>0</td>\n",
       "      <td>1.4</td>\n",
       "      <td>2</td>\n",
       "      <td>0</td>\n",
       "      <td>2</td>\n",
       "      <td>1</td>\n",
       "      <td>0</td>\n",
       "    </tr>\n",
       "    <tr>\n",
       "      <th>3</th>\n",
       "      <td>56</td>\n",
       "      <td>1</td>\n",
       "      <td>120.000000</td>\n",
       "      <td>236.0</td>\n",
       "      <td>0</td>\n",
       "      <td>1</td>\n",
       "      <td>178.0</td>\n",
       "      <td>0</td>\n",
       "      <td>0.8</td>\n",
       "      <td>2</td>\n",
       "      <td>0</td>\n",
       "      <td>2</td>\n",
       "      <td>0</td>\n",
       "      <td>1</td>\n",
       "    </tr>\n",
       "    <tr>\n",
       "      <th>4</th>\n",
       "      <td>57</td>\n",
       "      <td>0</td>\n",
       "      <td>131.712375</td>\n",
       "      <td>354.0</td>\n",
       "      <td>0</td>\n",
       "      <td>1</td>\n",
       "      <td>163.0</td>\n",
       "      <td>1</td>\n",
       "      <td>0.6</td>\n",
       "      <td>2</td>\n",
       "      <td>0</td>\n",
       "      <td>2</td>\n",
       "      <td>1</td>\n",
       "      <td>0</td>\n",
       "    </tr>\n",
       "  </tbody>\n",
       "</table>\n",
       "</div>"
      ],
      "text/plain": [
       "   age  cp    trestbps   chol  fbs  restecg  thalach  exang  oldpeak  slope  \\\n",
       "0   63   3  145.000000  233.0    1        0    150.0      0      2.3      0   \n",
       "1   37   2  130.000000  250.0    0        1    187.0      0      3.5      0   \n",
       "2   41   1  130.000000  204.0    0        0    172.0      0      1.4      2   \n",
       "3   56   1  120.000000  236.0    0        1    178.0      0      0.8      2   \n",
       "4   57   0  131.712375  354.0    0        1    163.0      1      0.6      2   \n",
       "\n",
       "   ca  thal  sex_female  sex_male  \n",
       "0   0     1           0         1  \n",
       "1   0     2           0         1  \n",
       "2   0     2           1         0  \n",
       "3   0     2           0         1  \n",
       "4   0     2           1         0  "
      ]
     },
     "execution_count": 5,
     "metadata": {},
     "output_type": "execute_result"
    }
   ],
   "source": [
    "# replace w/ mean of col\n",
    "for col in data_X:\n",
    "    if col != 'sex':\n",
    "        data_X[col].fillna(data_X[col].mean(), inplace=True)\n",
    "    if col == 'sex':\n",
    "        counts = data_X[col].value_counts().index.tolist()\n",
    "        data_X[col].fillna(counts[0],inplace=True)\n",
    "        \n",
    "#male is 0 and female is 1       \n",
    "data_X = pd.get_dummies(data_X, columns= [\"sex\"], prefix = [\"sex\"])\n",
    "data_X.head()  \n"
   ]
  },
  {
   "cell_type": "markdown",
   "id": "645aeb2f",
   "metadata": {},
   "source": [
    "### Data Exploration"
   ]
  },
  {
   "cell_type": "code",
   "execution_count": 6,
   "id": "6bf4792e",
   "metadata": {},
   "outputs": [
    {
     "data": {
      "text/html": [
       "<div>\n",
       "<style scoped>\n",
       "    .dataframe tbody tr th:only-of-type {\n",
       "        vertical-align: middle;\n",
       "    }\n",
       "\n",
       "    .dataframe tbody tr th {\n",
       "        vertical-align: top;\n",
       "    }\n",
       "\n",
       "    .dataframe thead th {\n",
       "        text-align: right;\n",
       "    }\n",
       "</style>\n",
       "<table border=\"1\" class=\"dataframe\">\n",
       "  <thead>\n",
       "    <tr style=\"text-align: right;\">\n",
       "      <th></th>\n",
       "      <th>age</th>\n",
       "      <th>cp</th>\n",
       "      <th>trestbps</th>\n",
       "      <th>chol</th>\n",
       "      <th>fbs</th>\n",
       "      <th>restecg</th>\n",
       "      <th>thalach</th>\n",
       "      <th>exang</th>\n",
       "      <th>oldpeak</th>\n",
       "      <th>slope</th>\n",
       "      <th>ca</th>\n",
       "      <th>thal</th>\n",
       "      <th>sex_female</th>\n",
       "      <th>sex_male</th>\n",
       "    </tr>\n",
       "  </thead>\n",
       "  <tbody>\n",
       "    <tr>\n",
       "      <th>count</th>\n",
       "      <td>303.000000</td>\n",
       "      <td>303.000000</td>\n",
       "      <td>303.000000</td>\n",
       "      <td>303.000000</td>\n",
       "      <td>303.000000</td>\n",
       "      <td>303.000000</td>\n",
       "      <td>303.000000</td>\n",
       "      <td>303.000000</td>\n",
       "      <td>303.000000</td>\n",
       "      <td>303.000000</td>\n",
       "      <td>303.000000</td>\n",
       "      <td>303.000000</td>\n",
       "      <td>303.000000</td>\n",
       "      <td>303.000000</td>\n",
       "    </tr>\n",
       "    <tr>\n",
       "      <th>mean</th>\n",
       "      <td>54.366337</td>\n",
       "      <td>0.966997</td>\n",
       "      <td>131.712375</td>\n",
       "      <td>246.317881</td>\n",
       "      <td>0.148515</td>\n",
       "      <td>0.528053</td>\n",
       "      <td>149.865772</td>\n",
       "      <td>0.326733</td>\n",
       "      <td>1.039604</td>\n",
       "      <td>1.399340</td>\n",
       "      <td>0.729373</td>\n",
       "      <td>2.313531</td>\n",
       "      <td>0.316832</td>\n",
       "      <td>0.683168</td>\n",
       "    </tr>\n",
       "    <tr>\n",
       "      <th>std</th>\n",
       "      <td>9.082101</td>\n",
       "      <td>1.032052</td>\n",
       "      <td>17.511894</td>\n",
       "      <td>51.822273</td>\n",
       "      <td>0.356198</td>\n",
       "      <td>0.525860</td>\n",
       "      <td>22.376122</td>\n",
       "      <td>0.469794</td>\n",
       "      <td>1.161075</td>\n",
       "      <td>0.616226</td>\n",
       "      <td>1.022606</td>\n",
       "      <td>0.612277</td>\n",
       "      <td>0.466011</td>\n",
       "      <td>0.466011</td>\n",
       "    </tr>\n",
       "    <tr>\n",
       "      <th>min</th>\n",
       "      <td>29.000000</td>\n",
       "      <td>0.000000</td>\n",
       "      <td>94.000000</td>\n",
       "      <td>126.000000</td>\n",
       "      <td>0.000000</td>\n",
       "      <td>0.000000</td>\n",
       "      <td>71.000000</td>\n",
       "      <td>0.000000</td>\n",
       "      <td>0.000000</td>\n",
       "      <td>0.000000</td>\n",
       "      <td>0.000000</td>\n",
       "      <td>0.000000</td>\n",
       "      <td>0.000000</td>\n",
       "      <td>0.000000</td>\n",
       "    </tr>\n",
       "    <tr>\n",
       "      <th>25%</th>\n",
       "      <td>47.500000</td>\n",
       "      <td>0.000000</td>\n",
       "      <td>120.000000</td>\n",
       "      <td>211.000000</td>\n",
       "      <td>0.000000</td>\n",
       "      <td>0.000000</td>\n",
       "      <td>136.000000</td>\n",
       "      <td>0.000000</td>\n",
       "      <td>0.000000</td>\n",
       "      <td>1.000000</td>\n",
       "      <td>0.000000</td>\n",
       "      <td>2.000000</td>\n",
       "      <td>0.000000</td>\n",
       "      <td>0.000000</td>\n",
       "    </tr>\n",
       "    <tr>\n",
       "      <th>50%</th>\n",
       "      <td>55.000000</td>\n",
       "      <td>1.000000</td>\n",
       "      <td>130.000000</td>\n",
       "      <td>241.000000</td>\n",
       "      <td>0.000000</td>\n",
       "      <td>1.000000</td>\n",
       "      <td>152.000000</td>\n",
       "      <td>0.000000</td>\n",
       "      <td>0.800000</td>\n",
       "      <td>1.000000</td>\n",
       "      <td>0.000000</td>\n",
       "      <td>2.000000</td>\n",
       "      <td>0.000000</td>\n",
       "      <td>1.000000</td>\n",
       "    </tr>\n",
       "    <tr>\n",
       "      <th>75%</th>\n",
       "      <td>61.000000</td>\n",
       "      <td>2.000000</td>\n",
       "      <td>140.000000</td>\n",
       "      <td>274.500000</td>\n",
       "      <td>0.000000</td>\n",
       "      <td>1.000000</td>\n",
       "      <td>166.000000</td>\n",
       "      <td>1.000000</td>\n",
       "      <td>1.600000</td>\n",
       "      <td>2.000000</td>\n",
       "      <td>1.000000</td>\n",
       "      <td>3.000000</td>\n",
       "      <td>1.000000</td>\n",
       "      <td>1.000000</td>\n",
       "    </tr>\n",
       "    <tr>\n",
       "      <th>max</th>\n",
       "      <td>77.000000</td>\n",
       "      <td>3.000000</td>\n",
       "      <td>200.000000</td>\n",
       "      <td>564.000000</td>\n",
       "      <td>1.000000</td>\n",
       "      <td>2.000000</td>\n",
       "      <td>202.000000</td>\n",
       "      <td>1.000000</td>\n",
       "      <td>6.200000</td>\n",
       "      <td>2.000000</td>\n",
       "      <td>4.000000</td>\n",
       "      <td>3.000000</td>\n",
       "      <td>1.000000</td>\n",
       "      <td>1.000000</td>\n",
       "    </tr>\n",
       "  </tbody>\n",
       "</table>\n",
       "</div>"
      ],
      "text/plain": [
       "              age          cp    trestbps        chol         fbs     restecg  \\\n",
       "count  303.000000  303.000000  303.000000  303.000000  303.000000  303.000000   \n",
       "mean    54.366337    0.966997  131.712375  246.317881    0.148515    0.528053   \n",
       "std      9.082101    1.032052   17.511894   51.822273    0.356198    0.525860   \n",
       "min     29.000000    0.000000   94.000000  126.000000    0.000000    0.000000   \n",
       "25%     47.500000    0.000000  120.000000  211.000000    0.000000    0.000000   \n",
       "50%     55.000000    1.000000  130.000000  241.000000    0.000000    1.000000   \n",
       "75%     61.000000    2.000000  140.000000  274.500000    0.000000    1.000000   \n",
       "max     77.000000    3.000000  200.000000  564.000000    1.000000    2.000000   \n",
       "\n",
       "          thalach       exang     oldpeak       slope          ca        thal  \\\n",
       "count  303.000000  303.000000  303.000000  303.000000  303.000000  303.000000   \n",
       "mean   149.865772    0.326733    1.039604    1.399340    0.729373    2.313531   \n",
       "std     22.376122    0.469794    1.161075    0.616226    1.022606    0.612277   \n",
       "min     71.000000    0.000000    0.000000    0.000000    0.000000    0.000000   \n",
       "25%    136.000000    0.000000    0.000000    1.000000    0.000000    2.000000   \n",
       "50%    152.000000    0.000000    0.800000    1.000000    0.000000    2.000000   \n",
       "75%    166.000000    1.000000    1.600000    2.000000    1.000000    3.000000   \n",
       "max    202.000000    1.000000    6.200000    2.000000    4.000000    3.000000   \n",
       "\n",
       "       sex_female    sex_male  \n",
       "count  303.000000  303.000000  \n",
       "mean     0.316832    0.683168  \n",
       "std      0.466011    0.466011  \n",
       "min      0.000000    0.000000  \n",
       "25%      0.000000    0.000000  \n",
       "50%      0.000000    1.000000  \n",
       "75%      1.000000    1.000000  \n",
       "max      1.000000    1.000000  "
      ]
     },
     "execution_count": 6,
     "metadata": {},
     "output_type": "execute_result"
    }
   ],
   "source": [
    "#data exploration\n",
    "data_X.describe()"
   ]
  },
  {
   "cell_type": "code",
   "execution_count": 7,
   "id": "4fdbb7c1",
   "metadata": {},
   "outputs": [
    {
     "data": {
      "text/plain": [
       "array([[<AxesSubplot:title={'center':'age'}>,\n",
       "        <AxesSubplot:title={'center':'cp'}>,\n",
       "        <AxesSubplot:title={'center':'trestbps'}>,\n",
       "        <AxesSubplot:title={'center':'chol'}>],\n",
       "       [<AxesSubplot:title={'center':'fbs'}>,\n",
       "        <AxesSubplot:title={'center':'restecg'}>,\n",
       "        <AxesSubplot:title={'center':'thalach'}>,\n",
       "        <AxesSubplot:title={'center':'exang'}>],\n",
       "       [<AxesSubplot:title={'center':'oldpeak'}>,\n",
       "        <AxesSubplot:title={'center':'slope'}>,\n",
       "        <AxesSubplot:title={'center':'ca'}>,\n",
       "        <AxesSubplot:title={'center':'thal'}>],\n",
       "       [<AxesSubplot:title={'center':'sex_female'}>,\n",
       "        <AxesSubplot:title={'center':'sex_male'}>, <AxesSubplot:>,\n",
       "        <AxesSubplot:>]], dtype=object)"
      ]
     },
     "execution_count": 7,
     "metadata": {},
     "output_type": "execute_result"
    },
    {
     "data": {
      "image/png": "[encoded data removed]",
      "text/plain": [
       "<Figure size 1440x720 with 16 Axes>"
      ]
     },
     "metadata": {
      "needs_background": "light"
     },
     "output_type": "display_data"
    }
   ],
   "source": [
    "data_X.hist(bins=40, figsize=(20,10))"
   ]
  },
  {
   "cell_type": "code",
   "execution_count": 8,
   "id": "8b83ad78",
   "metadata": {},
   "outputs": [
    {
     "data": {
      "text/plain": [
       "<AxesSubplot:xlabel='age', ylabel='trestbps'>"
      ]
     },
     "execution_count": 8,
     "metadata": {},
     "output_type": "execute_result"
    },
    {
     "data": {
      "image/png": "[encoded data removed]",
      "text/plain": [
       "<Figure size 432x288 with 1 Axes>"
      ]
     },
     "metadata": {
      "needs_background": "light"
     },
     "output_type": "display_data"
    }
   ],
   "source": [
    "data_X.plot.scatter(x='age', y='trestbps')"
   ]
  },
  {
   "cell_type": "code",
   "execution_count": 9,
   "id": "afc91033",
   "metadata": {},
   "outputs": [
    {
     "data": {
      "text/plain": [
       "<AxesSubplot:xlabel='age', ylabel='thalach'>"
      ]
     },
     "execution_count": 9,
     "metadata": {},
     "output_type": "execute_result"
    },
    {
     "data": {
      "image/png": "[encoded data removed]",
      "text/plain": [
       "<Figure size 432x288 with 1 Axes>"
      ]
     },
     "metadata": {
      "needs_background": "light"
     },
     "output_type": "display_data"
    }
   ],
   "source": [
    "data_X.plot.scatter(x='age', y='thalach')"
   ]
  },
  {
   "cell_type": "markdown",
   "id": "d153eedc",
   "metadata": {},
   "source": [
    "People who are 50-60 years old tend to have a high max heart rate"
   ]
  },
  {
   "cell_type": "markdown",
   "id": "09982e4c",
   "metadata": {},
   "source": [
    "### Data Analysis"
   ]
  },
  {
   "cell_type": "markdown",
   "id": "372b1f80",
   "metadata": {},
   "source": [
    "#### Decision Tree Classifier"
   ]
  },
  {
   "cell_type": "markdown",
   "id": "3de88183",
   "metadata": {},
   "source": [
    "For our Decision Tree classifier, we split our data set into 20% test set and 80% training set. We do an initial Decision Tree classifier using entropy as the split criterion."
   ]
  },
  {
   "cell_type": "code",
   "execution_count": 10,
   "id": "f6f81c9d",
   "metadata": {},
   "outputs": [
    {
     "name": "stdout",
     "output_type": "stream",
     "text": [
      "Features shape (303, 14)\n",
      "Labels shape (303,)\n",
      "X_train set size = (242, 14) \ty_train set size = (242,)\n",
      "X_test set size = (61, 14) \ty_test set size = (61,)\n",
      "Accuracy on test data is: 0.7704918032786885\n"
     ]
    }
   ],
   "source": [
    "from sklearn.model_selection import train_test_split\n",
    "from sklearn.tree import DecisionTreeClassifier\n",
    "from sklearn import tree\n",
    "from sklearn.metrics import accuracy_score\n",
    "\n",
    "print(\"Features shape\", data_X.shape)\n",
    "print(\"Labels shape\", data_Y.shape)\n",
    "X_train, X_test, y_train, y_test = train_test_split(data_X, data_Y, test_size=0.20)\n",
    "\n",
    "print(\"X_train set size =\",X_train.shape, \"\\ty_train set size =\", y_train.shape)\n",
    "print(\"X_test set size =\",X_test.shape, \"\\ty_test set size =\", y_test.shape)\n",
    "\n",
    "clf = DecisionTreeClassifier(criterion='entropy')\n",
    "clf = clf.fit(X_train, y_train)\n",
    "\n",
    "preds = clf.predict(X_test)\n",
    "print('Accuracy on test data is:', (accuracy_score(y_test, preds)))"
   ]
  },
  {
   "cell_type": "markdown",
   "id": "412495ce",
   "metadata": {},
   "source": [
    "In the next cells, we tried different Decision Tree classifier parameters such as max_depth and min_sample_leaf. We also tried gini as the split criterion."
   ]
  },
  {
   "cell_type": "code",
   "execution_count": 11,
   "id": "2a70ac6f",
   "metadata": {},
   "outputs": [
    {
     "name": "stdout",
     "output_type": "stream",
     "text": [
      "Accuracy on test data is: 0.7868852459016393\n"
     ]
    }
   ],
   "source": [
    "# max_depth\n",
    "clf1 = DecisionTreeClassifier(criterion='entropy',max_depth=4)\n",
    "clf1 = clf1.fit(X_train, y_train)\n",
    "preds1 = clf1.predict(X_test)\n",
    "print('Accuracy on test data is:', (accuracy_score(y_test, preds1)))"
   ]
  },
  {
   "cell_type": "code",
   "execution_count": 12,
   "id": "4531c25c",
   "metadata": {},
   "outputs": [
    {
     "name": "stdout",
     "output_type": "stream",
     "text": [
      "Accuracy on test data is: 0.7377049180327869\n"
     ]
    }
   ],
   "source": [
    "# min_samples_split\n",
    "clf2 = DecisionTreeClassifier(criterion='entropy',min_samples_split=5)\n",
    "clf2 = clf2.fit(X_train, y_train)\n",
    "preds2 = clf2.predict(X_test)\n",
    "print('Accuracy on test data is:', (accuracy_score(y_test, preds2)))"
   ]
  },
  {
   "cell_type": "code",
   "execution_count": 13,
   "id": "fa1731f0",
   "metadata": {},
   "outputs": [
    {
     "name": "stdout",
     "output_type": "stream",
     "text": [
      "Accuracy on test data is: 0.7213114754098361\n"
     ]
    }
   ],
   "source": [
    "# min_sample_leaf\n",
    "clf3 = DecisionTreeClassifier(criterion='entropy',min_samples_leaf=2)\n",
    "clf3 = clf3.fit(X_train, y_train)\n",
    "preds3 = clf3.predict(X_test)\n",
    "print('Accuracy on test data is:', (accuracy_score(y_test, preds3)))"
   ]
  },
  {
   "cell_type": "code",
   "execution_count": 14,
   "id": "fe1feb82",
   "metadata": {},
   "outputs": [
    {
     "name": "stdout",
     "output_type": "stream",
     "text": [
      "Accuracy on test data is: 0.5737704918032787\n"
     ]
    }
   ],
   "source": [
    "# min_impurtity_decrease\n",
    "clf4 = DecisionTreeClassifier(criterion='entropy',min_impurity_decrease=3)\n",
    "clf4 = clf4.fit(X_train, y_train)\n",
    "preds4 = clf4.predict(X_test)\n",
    "print('Accuracy on test data is:', (accuracy_score(y_test, preds4)))"
   ]
  },
  {
   "cell_type": "code",
   "execution_count": 15,
   "id": "da9e78bc",
   "metadata": {},
   "outputs": [
    {
     "name": "stdout",
     "output_type": "stream",
     "text": [
      "Accuracy on test data is: 0.7049180327868853\n"
     ]
    }
   ],
   "source": [
    "# gini\n",
    "clf5 = DecisionTreeClassifier(criterion='gini')\n",
    "clf5 = clf5.fit(X_train, y_train)\n",
    "preds5 = clf5.predict(X_test)\n",
    "print('Accuracy on test data is:', (accuracy_score(y_test, preds5)))"
   ]
  },
  {
   "cell_type": "markdown",
   "id": "4cf0c822",
   "metadata": {},
   "source": [
    "Now we perform cross_validation with cv=10 on the model with the only parameter of entropy as the split criterion."
   ]
  },
  {
   "cell_type": "code",
   "execution_count": 16,
   "id": "25e36484",
   "metadata": {},
   "outputs": [
    {
     "name": "stdout",
     "output_type": "stream",
     "text": [
      "Scores: [0.80645161 0.80645161 0.87096774 0.8        0.83333333 0.8\n",
      " 0.56666667 0.83333333 0.66666667 0.76666667]\n",
      "Average accuracy: 77.50537634408602\n"
     ]
    }
   ],
   "source": [
    "# cross validation\n",
    "from sklearn.model_selection import cross_val_score\n",
    "\n",
    "scores = cross_val_score(clf, data_X, data_Y, cv=10) \n",
    "print(\"Scores:\", scores)                                            \n",
    "\n",
    "print(\"Average accuracy:\", scores.mean()*100)"
   ]
  },
  {
   "cell_type": "code",
   "execution_count": 17,
   "id": "e91d34b5",
   "metadata": {},
   "outputs": [
    {
     "name": "stdout",
     "output_type": "stream",
     "text": [
      "{'max_depth': 5, 'max_features': 14, 'min_samples_leaf': 15}\n",
      "Accuracy: 82.15846994535518\n"
     ]
    }
   ],
   "source": [
    "# Nested Cross Validation\n",
    "from sklearn.model_selection import GridSearchCV\n",
    "\n",
    "params = {\"max_depth\": [5, 10 , 15, 20 ] , \n",
    "         \"min_samples_leaf\": [5, 10, 15, 20],\n",
    "         \"max_features\" : [5,10,14]}\n",
    "\n",
    "grid_search = GridSearchCV(clf, params, cv=5, scoring='accuracy')\n",
    "\n",
    "grid_search.fit(data_X, data_Y)\n",
    "\n",
    "print(grid_search.best_params_)\n",
    "#best 'max_depth': 14, 'max_features': 10, 'min_samples_leaf': 11\n",
    "#Accuracy: 83.80874316939891\n",
    "print(\"Accuracy:\", grid_search.best_score_*100)"
   ]
  },
  {
   "cell_type": "code",
   "execution_count": 18,
   "id": "262aaf21",
   "metadata": {},
   "outputs": [
    {
     "name": "stdout",
     "output_type": "stream",
     "text": [
      "Accuracy: 81.1639344262295\n"
     ]
    }
   ],
   "source": [
    "# Offical accuracy\n",
    "nested_score = cross_val_score(grid_search, data_X, data_Y, cv=5)\n",
    "#best result is 80\n",
    "print(\"Accuracy:\", nested_score.mean()*100)"
   ]
  },
  {
   "cell_type": "markdown",
   "id": "48639933",
   "metadata": {},
   "source": [
    "#### K-Nearest Neighbors Classifier"
   ]
  },
  {
   "cell_type": "markdown",
   "id": "f499f88e",
   "metadata": {},
   "source": [
    "Here we tried to use the K-Nearest Neighbor classifier. First we need to scale our data.\n",
    "We may want to perform a dimensionality reduction with PCA before running KNN. PCA should only be performed on scaled data!"
   ]
  },
  {
   "cell_type": "code",
   "execution_count": 19,
   "id": "2575d1df",
   "metadata": {},
   "outputs": [
    {
     "name": "stdout",
     "output_type": "stream",
     "text": [
      "Accuracy: 82.15846994535518\n"
     ]
    }
   ],
   "source": [
    "from sklearn.preprocessing import StandardScaler\n",
    "from sklearn.decomposition import PCA\n",
    "from sklearn.neighbors import KNeighborsClassifier\n",
    "from sklearn.pipeline import Pipeline\n",
    "\n",
    "\n",
    "scaler = StandardScaler()\n",
    "pca = PCA()\n",
    "neigh = KNeighborsClassifier(n_neighbors=7)\n",
    "pipe = Pipeline(steps=[('scaler', scaler), ('pca', pca), ('knn', neigh)])\n",
    "score = cross_val_score(pipe, data_X, data_Y, cv=5)\n",
    "print(\"Accuracy:\", score.mean()*100)"
   ]
  },
  {
   "cell_type": "markdown",
   "id": "c2406e14",
   "metadata": {},
   "source": [
    "We can use nested cross validation to choose the best number of neighbors and the best number of dimensions to project down onto using PCA."
   ]
  },
  {
   "cell_type": "code",
   "execution_count": 20,
   "id": "76839794",
   "metadata": {},
   "outputs": [
    {
     "name": "stdout",
     "output_type": "stream",
     "text": [
      "{'knn__n_neighbors': 6, 'pca__n_components': 12}\n",
      "Accuracy: 84.8032786885246\n"
     ]
    }
   ],
   "source": [
    "import warnings\n",
    "warnings.filterwarnings('ignore')\n",
    "'''\n",
    "On the \"pca\" part of the pipeline, \n",
    "tune the n_components parameter,\n",
    "by trying the values 5-14.\n",
    "\n",
    "On the \"knn\" part of the pipeline, \n",
    "tune the n_neighbors parameter,\n",
    "by trying the values 1-25.\n",
    "'''\n",
    "\n",
    "param_grid = {\n",
    "    'pca__n_components': list(range(5, 14)),\n",
    "    'knn__n_neighbors': list(range(1, 26))\n",
    "}\n",
    "\n",
    "\n",
    "\n",
    "knn_grid_search = GridSearchCV(pipe, param_grid, cv=5, scoring='accuracy')\n",
    "\n",
    "knn_grid_search.fit(data_X, data_Y)\n",
    "\n",
    "print(knn_grid_search.best_params_)\n",
    "\n",
    "print(\"Accuracy:\", knn_grid_search.best_score_*100)"
   ]
  },
  {
   "cell_type": "markdown",
   "id": "bfbdd61a",
   "metadata": {},
   "source": [
    "We did not hold out a test set. The accuracy reported out is on the _validation_ set. So now we need to wrap the whole process in another cross-validation to perform a nested cross-validation and report the accuarcy of this KNN model on unseen test data. This is the official accuracy we would report on this model."
   ]
  },
  {
   "cell_type": "code",
   "execution_count": 21,
   "id": "87d6ab40",
   "metadata": {},
   "outputs": [
    {
     "name": "stdout",
     "output_type": "stream",
     "text": [
      "Accuracy: 80.53005464480873\n"
     ]
    }
   ],
   "source": [
    "knn_nested_score = cross_val_score(knn_grid_search, data_X, data_Y, cv=5)\n",
    "\n",
    "print(\"Accuracy:\", knn_nested_score.mean()*100)"
   ]
  },
  {
   "cell_type": "markdown",
   "id": "92d456de",
   "metadata": {},
   "source": [
    "#### Naive Bayes Classifier"
   ]
  },
  {
   "cell_type": "markdown",
   "id": "fa70683f",
   "metadata": {},
   "source": [
    "For our Naive Bayes classifier, we went with a Gaussian distribution."
   ]
  },
  {
   "cell_type": "code",
   "execution_count": 22,
   "id": "868f4f32",
   "metadata": {},
   "outputs": [
    {
     "name": "stdout",
     "output_type": "stream",
     "text": [
      "Accuracy: 82.49462365591398\n"
     ]
    }
   ],
   "source": [
    "from sklearn.naive_bayes import GaussianNB\n",
    "\n",
    "clf = GaussianNB()\n",
    "clf.fit(data_X, data_Y)\n",
    "nb_score = cross_val_score(clf, data_X, data_Y, cv=10)\n",
    "print(\"Accuracy:\", nb_score.mean()*100)"
   ]
  },
  {
   "cell_type": "markdown",
   "id": "510e5f55",
   "metadata": {},
   "source": [
    "We use classification_report for evaluating the classifier on a per-class basis. It is a summary of the precision, recall, and F1 score for each class"
   ]
  },
  {
   "cell_type": "code",
   "execution_count": 23,
   "id": "4f36e763",
   "metadata": {},
   "outputs": [
    {
     "name": "stdout",
     "output_type": "stream",
     "text": [
      "[[110  28]\n",
      " [ 26 139]]\n",
      "              precision    recall  f1-score   support\n",
      "\n",
      "          no       0.81      0.80      0.80       138\n",
      "         yes       0.83      0.84      0.84       165\n",
      "\n",
      "    accuracy                           0.82       303\n",
      "   macro avg       0.82      0.82      0.82       303\n",
      "weighted avg       0.82      0.82      0.82       303\n",
      "\n"
     ]
    }
   ],
   "source": [
    "from sklearn.metrics import confusion_matrix\n",
    "from sklearn.model_selection import cross_val_predict\n",
    "from sklearn.metrics import classification_report\n",
    "\n",
    "y_pred = cross_val_predict(clf, data_X, data_Y, cv=5)\n",
    "print(confusion_matrix(data_Y, y_pred))\n",
    "print(classification_report(data_Y, y_pred))"
   ]
  },
  {
   "cell_type": "markdown",
   "id": "fb8dc4d0",
   "metadata": {},
   "source": [
    "#### Support Vector Machine (SVM) Classifier\n",
    "We created a pipeline that includes StandardScaler, PCA and SVC. We tried parameters with the number of dimensions from 5 to 14 and SVM kernels linear, rbf and poly. Our model was evaluated using a 10-fold cross validation with 5-fold GridSearch. Finally we print out the accuracy and classification report."
   ]
  },
  {
   "cell_type": "code",
   "execution_count": 24,
   "id": "8f269868",
   "metadata": {},
   "outputs": [
    {
     "name": "stdout",
     "output_type": "stream",
     "text": [
      "Accuracy: 0.8151815181518152\n",
      "Classification report:\n",
      "               precision    recall  f1-score   support\n",
      "\n",
      "          no       0.83      0.75      0.79       138\n",
      "         yes       0.81      0.87      0.84       165\n",
      "\n",
      "    accuracy                           0.82       303\n",
      "   macro avg       0.82      0.81      0.81       303\n",
      "weighted avg       0.82      0.82      0.81       303\n",
      "\n"
     ]
    }
   ],
   "source": [
    "from sklearn.preprocessing import StandardScaler\n",
    "from sklearn.svm import SVC\n",
    "from sklearn.model_selection import cross_val_predict\n",
    "\n",
    "svm_scaler = StandardScaler()\n",
    "svm_pca = PCA()\n",
    "svc = SVC()\n",
    "svm_pipeline = Pipeline([('scaler', svm_scaler), ('pca', svm_pca), ('svc', svc)])\n",
    "\n",
    "param_grid = {\n",
    "    'pca__n_components': list(range(5, 14)),\n",
    "    'svc__kernel': ['linear', 'rbf', 'poly'],\n",
    "}\n",
    "\n",
    "svm_gscv = GridSearchCV(svm_pipeline, param_grid, cv=5)\n",
    "svm_cv = cross_val_predict(svm_gscv, data_X, data_Y, cv=10)\n",
    "print(\"Accuracy:\", accuracy_score(data_Y, svm_cv))\n",
    "print(\"Classification report:\\n\", classification_report(data_Y, svm_cv))"
   ]
  },
  {
   "cell_type": "markdown",
   "id": "c3aee5ae",
   "metadata": {},
   "source": [
    "#### Ensemble Classifiers\n",
    "##### Random Forest Classifiers\n",
    "We use RandomForestClassifier to classify the data. We used GridSearchCV with a 5-fold CV and tried diffierent hyperparameters for max_depth, min_samples_leaf and max_features to get the best results. Finally, we calculated the accuracy of the model using cross validation with 5-fold CV."
   ]
  },
  {
   "cell_type": "code",
   "execution_count": 25,
   "id": "271dd09a",
   "metadata": {},
   "outputs": [
    {
     "name": "stdout",
     "output_type": "stream",
     "text": [
      "Accuracy: 83.49726775956285\n"
     ]
    }
   ],
   "source": [
    "from sklearn.ensemble import RandomForestClassifier\n",
    "\n",
    "rfc = RandomForestClassifier()\n",
    "param_grid = {\n",
    "    'max_depth': [5, 10, 15, 20],\n",
    "    'min_samples_leaf': [5, 10, 15, 20],\n",
    "    'max_features' : ['sqrt', 'log2']\n",
    "}\n",
    "grid_search = GridSearchCV(rfc, param_grid, cv=5, scoring='accuracy')\n",
    "nested_score = cross_val_score(grid_search, data_X, data_Y, cv=5)\n",
    "print(\"Accuracy:\", nested_score.mean()*100)"
   ]
  },
  {
   "cell_type": "markdown",
   "id": "958704ba",
   "metadata": {},
   "source": [
    "##### ADA Boost\n",
    "We evaluate the model by using Ada boost classifier. We use 150 base classifiers and evaluate the accracy with 5-fold cross validation."
   ]
  },
  {
   "cell_type": "code",
   "execution_count": 26,
   "id": "4ff64376",
   "metadata": {},
   "outputs": [
    {
     "name": "stdout",
     "output_type": "stream",
     "text": [
      "Accuracy: 77.19125683060109\n"
     ]
    }
   ],
   "source": [
    "from sklearn.ensemble import AdaBoostClassifier\n",
    "clf = AdaBoostClassifier(n_estimators=150)\n",
    "score = cross_val_score(clf, data_X, data_Y, cv=5)\n",
    "print(\"Accuracy:\", score.mean()*100)"
   ]
  },
  {
   "cell_type": "markdown",
   "id": "77c28ca3",
   "metadata": {},
   "source": [
    "### Conclusion"
   ]
  },
  {
   "cell_type": "markdown",
   "id": "b8e32852",
   "metadata": {},
   "source": [
    "After we applied different model to predict our data, we found that the k-nearest neighbor worked the best. We think that the patients who have similar biological features would cluster together, so the patient is more likely to have heart disease if their nearest neighbors also have heart disease.\n",
    "\n",
    "We expected ensemble classifiers would provide better accuracy but to our surprise, we found that the random forest classifier performed roughly the same as a singular decision tree classifier and that ADA Boost performed worse than most of the tested models."
   ]
  }
 ],
 "metadata": {
  "kernelspec": {
   "display_name": "Python 3 (ipykernel)",
   "language": "python",
   "name": "python3"
  },
  "language_info": {
   "codemirror_mode": {
    "name": "ipython",
    "version": 3
   },
   "file_extension": ".py",
   "mimetype": "text/x-python",
   "name": "python",
   "nbconvert_exporter": "python",
   "pygments_lexer": "ipython3",
   "version": "3.9.7"
  }
 },
 "nbformat": 4,
 "nbformat_minor": 5
}
